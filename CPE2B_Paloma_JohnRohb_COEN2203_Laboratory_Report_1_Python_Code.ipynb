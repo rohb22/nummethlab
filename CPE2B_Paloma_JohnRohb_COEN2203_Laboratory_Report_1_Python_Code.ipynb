{
  "cells": [
    {
      "cell_type": "markdown",
      "id": "4f7abef9",
      "metadata": {
        "id": "4f7abef9"
      },
      "source": [
        "# Laboratory Report No. 1 - Introduction to Python"
      ]
    },
    {
      "cell_type": "markdown",
      "id": "3b86744f",
      "metadata": {
        "id": "3b86744f"
      },
      "source": [
        "## Paloma, John Rohb Gutierrez  | CPE2B"
      ]
    },
    {
      "cell_type": "markdown",
      "id": "1263d15e",
      "metadata": {
        "id": "1263d15e"
      },
      "source": [
        "### Task 1\n",
        "Use logical comparison to determine if there are more than 100,000 seconds in a week. Output should be either True or False."
      ]
    },
    {
      "cell_type": "code",
      "execution_count": 4,
      "id": "25c0784c",
      "metadata": {
        "colab": {
          "base_uri": "https://localhost:8080/"
        },
        "id": "25c0784c",
        "outputId": "e3c3943d-28b9-4cca-f2fb-82953819254d"
      },
      "outputs": [
        {
          "output_type": "stream",
          "name": "stdout",
          "text": [
            "True\n"
          ]
        }
      ],
      "source": [
        "# Write your program here and execute the cell to display the results.\n",
        "minute = 60   # 60 seconds in a minute\n",
        "hour = minute * 60 # 60 minutes in an hour\n",
        "day = hour * 24 # 24 hours in a day\n",
        "week = day * 7 # 7 days in a week\n",
        "\n",
        "if (week > 100000):\n",
        "    print(\"True\")\n",
        "else: print(\"False\")"
      ]
    },
    {
      "cell_type": "markdown",
      "source": [],
      "metadata": {
        "id": "2c0q6anNPcyY"
      },
      "id": "2c0q6anNPcyY"
    },
    {
      "cell_type": "markdown",
      "id": "09a88595",
      "metadata": {
        "id": "09a88595"
      },
      "source": [
        "### Task 2\n",
        "\n",
        "Create a basic adder where the user will input “addend1” and “addend2” then the code will output the sum!"
      ]
    },
    {
      "cell_type": "code",
      "execution_count": 5,
      "id": "f4e2943e",
      "metadata": {
        "colab": {
          "base_uri": "https://localhost:8080/"
        },
        "id": "f4e2943e",
        "outputId": "b1648692-16af-471b-8ecc-e56e1e5a757b"
      },
      "outputs": [
        {
          "output_type": "stream",
          "name": "stdout",
          "text": [
            "Addend1: 5\n",
            "Addend2: 10\n",
            "Result: 5 + 10 = 15\n"
          ]
        }
      ],
      "source": [
        "# Write your program here and execute the cell to display the results.\n",
        "\n",
        "addend1 = int(input(\"Addend1: \"))\n",
        "addend2 = int(input(\"Addend2: \"))\n",
        "\n",
        "print(f\"Result: {addend1} + {addend2} = {addend1 + addend2}\")"
      ]
    },
    {
      "cell_type": "markdown",
      "source": [
        "### Task 3\n",
        "Create a seconds calculator where the user will input the number of “days” then the code will output the equivalent number of seconds."
      ],
      "metadata": {
        "id": "nRpVvn_iRlQi"
      },
      "id": "nRpVvn_iRlQi"
    },
    {
      "cell_type": "code",
      "source": [
        "days = int(input(\"How many days: \"))\n",
        "print(f\"{days} days is equivalent to {days * day} seconds\")\n"
      ],
      "metadata": {
        "colab": {
          "base_uri": "https://localhost:8080/"
        },
        "id": "a_wmw4TaRuyQ",
        "outputId": "974b7171-5c85-415e-90fa-28fd5f25c4d0"
      },
      "id": "a_wmw4TaRuyQ",
      "execution_count": 7,
      "outputs": [
        {
          "output_type": "stream",
          "name": "stdout",
          "text": [
            "How many days: 1\n",
            "1 days is equivalent to 86400 seconds\n"
          ]
        }
      ]
    },
    {
      "cell_type": "markdown",
      "source": [
        "### Task 4\n",
        "Find a greater number between two numbers from the user. The output prints:<br>\n",
        "  a. If the first number and second number are equal<br>\n",
        "  b. If the first number is greater<br>\n",
        "  c. If the first number is smaller"
      ],
      "metadata": {
        "id": "uk0C1gHuSM4m"
      },
      "id": "uk0C1gHuSM4m"
    },
    {
      "cell_type": "code",
      "source": [
        "num1 = int(input(\"Enter num1: \"))\n",
        "num2 = int(input(\"Enter num2: \"))\n",
        "if (num1 == num2):\n",
        "  print(f\"num1 is equal to num2\")\n",
        "elif (num1 > num2):\n",
        "    print(f\"num1 is greater than num2\")\n",
        "else:\n",
        "    print(f\"num1 is less than num2\")\n"
      ],
      "metadata": {
        "colab": {
          "base_uri": "https://localhost:8080/"
        },
        "id": "UOf-mUylSpxG",
        "outputId": "64bb4571-6cbc-4a8a-85f9-f6655412f9b8"
      },
      "id": "UOf-mUylSpxG",
      "execution_count": 8,
      "outputs": [
        {
          "output_type": "stream",
          "name": "stdout",
          "text": [
            "Enter num1: 5\n",
            "Enter num2: 6\n",
            "num1 is less than num2\n"
          ]
        }
      ]
    },
    {
      "cell_type": "markdown",
      "source": [
        "### Task 5\n",
        "Print the sum of all even numbers from 10 to 20 using a for loop"
      ],
      "metadata": {
        "id": "BZEf-wmLTGiz"
      },
      "id": "BZEf-wmLTGiz"
    },
    {
      "cell_type": "code",
      "source": [
        "even_5 = 0\n",
        "for i in range(10, 21):\n",
        "  if i % 2 == 0:\n",
        "    even_5 += i\n",
        "print(f\"The sum of even numbers from 10 to 20 is {even_5}\")"
      ],
      "metadata": {
        "colab": {
          "base_uri": "https://localhost:8080/"
        },
        "id": "OfoFyrFaTNVH",
        "outputId": "1c3b0abd-ef8c-472c-d16a-f0de8d8eb10a"
      },
      "id": "OfoFyrFaTNVH",
      "execution_count": 9,
      "outputs": [
        {
          "output_type": "stream",
          "name": "stdout",
          "text": [
            "The sum of even numbers from 10 to 20 is 90\n"
          ]
        }
      ]
    },
    {
      "cell_type": "markdown",
      "source": [
        "### Task 6\n",
        "Check how many times a given number from the user can be divided by 3 before it is less than or equal to 10 using a while loop."
      ],
      "metadata": {
        "id": "Q9mvkNTPTl4h"
      },
      "id": "Q9mvkNTPTl4h"
    },
    {
      "cell_type": "code",
      "source": [
        "num_6 = int(input(\"Enter a number: \"))\n",
        "orig_6 = num_6\n",
        "count_6 = 0\n",
        "while not num_6 <= 10:\n",
        "  num_6 /= 3\n",
        "  count_6 += 1\n",
        "\n",
        "print(f\"{orig_6} could be divided by three {count_6} times before it becomes less than or equal to 10\")"
      ],
      "metadata": {
        "colab": {
          "base_uri": "https://localhost:8080/"
        },
        "id": "ImunEgpTTuZc",
        "outputId": "7b42e96f-bf8d-4652-d655-b96937d6a926"
      },
      "id": "ImunEgpTTuZc",
      "execution_count": 17,
      "outputs": [
        {
          "output_type": "stream",
          "name": "stdout",
          "text": [
            "Enter a number: 21\n",
            "21 could be divided by three 1 times before it becomes less than or equal to 10\n"
          ]
        }
      ]
    },
    {
      "cell_type": "markdown",
      "source": [
        "### Task 7\n",
        "Given a string = ”DataScienceRocks”, write a code to do the following:\n",
        "<br>\n",
        "a. Extract the first 5 characters, then print it.<br>\n",
        "b. Extract the last 5 characters, then print it.<br>\n",
        "c. Extract characters from index 2 to 7 (inclusive of 2, exclusive of 7, then print it.<br>\n",
        "d. Reverse the entire string using slicing, then print the result.<br>\n",
        "e. Extract every second character from the string, then print the result\n"
      ],
      "metadata": {
        "id": "9odx_QDiVQnh"
      },
      "id": "9odx_QDiVQnh"
    },
    {
      "cell_type": "code",
      "source": [
        "string_7 = \"DataScienceRocks\"\n",
        "\n",
        "print(f\"The first 5 characters are: {string_7[:5]}\")\n",
        "print(f\"The last 5 characters are: {string_7[-5:]}\")\n",
        "print(f\"Characters from index 2 to 7 exclusive are: {string_7[2:7]}\")\n",
        "print(f\"The reverse of the string is: {string_7[::-1]}\")\n",
        "print(f\"The every second character from the string are: {string_7[1::2]}\")"
      ],
      "metadata": {
        "colab": {
          "base_uri": "https://localhost:8080/"
        },
        "id": "yxCEU1LhVkbk",
        "outputId": "1e0cfdfc-9ea8-459a-c2ed-ac9faaaddc64"
      },
      "id": "yxCEU1LhVkbk",
      "execution_count": 14,
      "outputs": [
        {
          "output_type": "stream",
          "name": "stdout",
          "text": [
            "The first 5 characters are: DataS\n",
            "The last 5 characters are: Rocks\n",
            "Characters from index 2 to 7 exclusive are: taSci\n",
            "The reverse of the string is: skcoRecneicSataD\n",
            "The every second character from the string are: aacecRcs\n"
          ]
        }
      ]
    },
    {
      "cell_type": "markdown",
      "source": [
        "### Task 8\n",
        "Create a list named colors containing the following color names: \"red\", \"green\", \"blue\",\n",
        "and \"yellow\".<br>\n",
        "a. Print the first and last elements of the colors list.<br>\n",
        "b. Add the color \"purple\" to the end of the colors list, then print the resulting list.<br>\n",
        "c. Change the second element of the colors list to \"orange\", then print the new list.<br>\n",
        "d. Remove the color \"yellow\" from the list, then print the resulting list.<br>\n",
        "e. Insert the color \"pink\" at the second position in the list, then print the new list.<br>\n",
        "f. Slice the colors list to get a new list containing only the first three colors. Print this sliced list."
      ],
      "metadata": {
        "id": "KqNskECaWLeE"
      },
      "id": "KqNskECaWLeE"
    },
    {
      "cell_type": "code",
      "source": [
        "colors_8 = [\"red\", \"green\", \"blue\",\"yellow\"]\n",
        "print(f\"The first color in the tuple is {colors_8[0]} and the last is {colors_8[-1]}\")\n",
        "colors_8.append(\"purple\")\n",
        "print(f\"The resulting list after appending \\\"purple\\\" is: {colors_8}\")\n",
        "colors_8[1] = \"orange\"\n",
        "print(f\"The resulting list after replacing the second element by \\\"orange\\\" is: {colors_8}\")\n",
        "colors_8.remove(\"yellow\")\n",
        "print(f\"The resulting list after removing \\\"yellow\\\" is: {colors_8}\")\n",
        "colors_8.insert(1, \"pink\")\n",
        "print(f\"The resulting list after inserting \\\"pink\\\" at the second position is: {colors_8}\")\n",
        "newColors_8 = colors_8[:3]\n",
        "print(f\"The new resulting list after splicing the first three colors is: {newColors_8}\")\n"
      ],
      "metadata": {
        "colab": {
          "base_uri": "https://localhost:8080/"
        },
        "id": "jfoPrMSaWctK",
        "outputId": "97e9c366-3cda-4ed7-ffc2-9649bc6967f9"
      },
      "id": "jfoPrMSaWctK",
      "execution_count": 15,
      "outputs": [
        {
          "output_type": "stream",
          "name": "stdout",
          "text": [
            "The first color in the tuple is red and the last is yellow\n",
            "The resulting list after appending \"purple\" is: ['red', 'green', 'blue', 'yellow', 'purple']\n",
            "The resulting list after replacing the second element by \"orange\" is: ['red', 'orange', 'blue', 'yellow', 'purple']\n",
            "The resulting list after removing \"yellow\" is: ['red', 'orange', 'blue', 'purple']\n",
            "The resulting list after inserting \"pink\" at the second position is: ['red', 'pink', 'orange', 'blue', 'purple']\n",
            "The new resulting list after splicing the first three colors is: ['red', 'pink', 'orange']\n"
          ]
        }
      ]
    },
    {
      "cell_type": "markdown",
      "source": [
        "### Task 9\n",
        "Create a tuple named fruits containing the following fruit names: \"apple\", \"banana\", \"cherry\", and \"date\". <br>\n",
        "a. Print the first and last elements of the fruits tuple.<br>\n",
        "b. Create a new tuple named vegetables containing the following vegetable names:<br>\n",
        "- \"carrot\", \"broccoli\", \"spinach\", then print it.<br>\n",
        "\n",
        "c. Concatenate the fruits and vegetables tuples into a new tuple called groceries, then print the resulting tuple.<br>\n",
        "d. Unpack the groceries tuple into individual variables. Print each variable.<br>\n",
        "e. Slice the groceries tuple to get a new tuple containing only the first three items. Print this sliced tuple.<br>\n",
        "f. Count how many times \"apple\" appears in the groceries tuple, then display the number."
      ],
      "metadata": {
        "id": "TMk8yAdRXsqF"
      },
      "id": "TMk8yAdRXsqF"
    },
    {
      "cell_type": "code",
      "source": [
        "fruits = (\"apple\", \"banana\", \"cherry\", \"date\")\n",
        "print(fruits[0], fruits[-1])\n",
        "vegetables = (\"carrot\", \"broccoli\", \"spinach\")\n",
        "print(vegetables)\n",
        "groceries = fruits + vegetables\n",
        "print(groceries)\n",
        "apple, banana, cherry, date, carrot, broccoli, spinach = groceries\n",
        "print(apple, banana, cherry, date, carrot, broccoli, spinach)\n",
        "newGrocery = groceries[:3]\n",
        "print(newGrocery)\n",
        "print(groceries.count(\"apple\"))"
      ],
      "metadata": {
        "colab": {
          "base_uri": "https://localhost:8080/"
        },
        "id": "ouEPRRLoYRhN",
        "outputId": "263a6ff1-b685-4ed9-fe00-bb25b8d17d51"
      },
      "id": "ouEPRRLoYRhN",
      "execution_count": 35,
      "outputs": [
        {
          "output_type": "stream",
          "name": "stdout",
          "text": [
            "apple date\n",
            "('carrot', 'broccoli', 'spinach')\n",
            "('apple', 'banana', 'cherry', 'date', 'carrot', 'broccoli', 'spinach')\n",
            "apple banana cherry date carrot broccoli spinach\n",
            "('apple', 'banana', 'cherry')\n",
            "1\n"
          ]
        }
      ]
    },
    {
      "cell_type": "markdown",
      "source": [
        "### Task 10\n",
        "Create a dictionary named student with the following key-value pairs: <br>\n",
        "- \"name\": \"John Doe\"\n",
        "- \"age\": 20\n",
        "- \"major\": \"Computer Science\" <br>\n",
        "\n",
        "a. Print the student's name and major from the student dictionary.<br>\n",
        "b. Update the student's age to 21, then print the updated dictionary.<br>\n",
        "c. Add a new key-value pair to the dictionary: \"GPA\": 3.8, then print the updated dictionary.<br>\n",
        "d. Check if the key \"graduation_year\" is in the student dictionary. If not, add \"graduation_year\": 2025. Print the resulting dictionary.<br>\n",
        "e. Print all the keys and their corresponding values in the student dictionary.<br>\n",
        "f. Remove the \"major\" key from the dictionary, then print the updated dictionary."
      ],
      "metadata": {
        "id": "JA1vcwD4Zqd_"
      },
      "id": "JA1vcwD4Zqd_"
    },
    {
      "cell_type": "code",
      "source": [
        "student = {\"name\": \"John Doe\", \"age\": 20, \"major\": \"Computer Science\"}\n",
        "print(student[\"name\"], student[\"major\"])\n",
        "student[\"age\"] = 21\n",
        "print(student)\n",
        "student[\"GPA\"] = 3.8\n",
        "print(student)\n",
        "if \"graduation_year\" not in student.keys():\n",
        "  student[\"graduation_year\"] = 2025\n",
        "print(student)\n",
        "for key, val in student.items():\n",
        "  print(f\"{key} : {val}\")\n",
        "del student[\"major\"]\n",
        "print(student)"
      ],
      "metadata": {
        "colab": {
          "base_uri": "https://localhost:8080/"
        },
        "id": "vasgDzIZaTY3",
        "outputId": "a6eb2609-d15c-4ad9-e018-a7c007b0b649"
      },
      "id": "vasgDzIZaTY3",
      "execution_count": 5,
      "outputs": [
        {
          "output_type": "stream",
          "name": "stdout",
          "text": [
            "John Doe Computer Science\n",
            "{'name': 'John Doe', 'age': 21, 'major': 'Computer Science'}\n",
            "{'name': 'John Doe', 'age': 21, 'major': 'Computer Science', 'GPA': 3.8}\n",
            "{'name': 'John Doe', 'age': 21, 'major': 'Computer Science', 'GPA': 3.8, 'graduation_year': 2025}\n",
            "name : John Doe\n",
            "age : 21\n",
            "major : Computer Science\n",
            "GPA : 3.8\n",
            "graduation_year : 2025\n",
            "{'name': 'John Doe', 'age': 21, 'GPA': 3.8, 'graduation_year': 2025}\n"
          ]
        }
      ]
    },
    {
      "cell_type": "markdown",
      "source": [
        "### Task 11\n",
        "Write a function called factorial that calculates the factorial of a given non-negative integer from the user. The function should take one parameter: n, and return the factorial of n."
      ],
      "metadata": {
        "id": "g22nMvjhb3pk"
      },
      "id": "g22nMvjhb3pk"
    },
    {
      "cell_type": "code",
      "source": [
        "# import math\n",
        "\n",
        "def factorial(n):\n",
        "  if n == 1:\n",
        "    return n\n",
        "  else:\n",
        "    # return math.factorial(n)\n",
        "    return n * factorial(n-1) # recursive methods\n",
        "\n",
        "\n",
        "print(f\"The factorial of 4 is {factorial(4)}\")\n"
      ],
      "metadata": {
        "colab": {
          "base_uri": "https://localhost:8080/"
        },
        "id": "snSXyHF6bq2I",
        "outputId": "f1cb7ac7-106f-49e1-c423-e7be62dfa742"
      },
      "id": "snSXyHF6bq2I",
      "execution_count": 19,
      "outputs": [
        {
          "output_type": "stream",
          "name": "stdout",
          "text": [
            "The factorial of 4 is 24\n"
          ]
        }
      ]
    },
    {
      "cell_type": "code",
      "source": [],
      "metadata": {
        "id": "0vgiPGoacFYl"
      },
      "id": "0vgiPGoacFYl",
      "execution_count": null,
      "outputs": []
    }
  ],
  "metadata": {
    "kernelspec": {
      "display_name": "Python 3",
      "name": "python3"
    },
    "language_info": {
      "codemirror_mode": {
        "name": "ipython",
        "version": 3
      },
      "file_extension": ".py",
      "mimetype": "text/x-python",
      "name": "python",
      "nbconvert_exporter": "python",
      "pygments_lexer": "ipython3",
      "version": "3.12.3"
    },
    "colab": {
      "provenance": [],
      "gpuType": "V28"
    },
    "accelerator": "TPU"
  },
  "nbformat": 4,
  "nbformat_minor": 5
}